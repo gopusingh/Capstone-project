{
 "cells": [
  {
   "cell_type": "markdown",
   "id": "9531b02a",
   "metadata": {},
   "source": [
    "# NAME = DIVYANSHU SINGH"
   ]
  },
  {
   "cell_type": "markdown",
   "id": "711857ee",
   "metadata": {},
   "source": [
    "# BATCH = DSNB1222"
   ]
  },
  {
   "cell_type": "markdown",
   "id": "1f006a29",
   "metadata": {},
   "source": [
    "# EMAIL ID = divyanshusinghsk01@gmail.com"
   ]
  },
  {
   "cell_type": "code",
   "execution_count": null,
   "id": "c14179c3",
   "metadata": {},
   "outputs": [],
   "source": []
  }
 ],
 "metadata": {
  "kernelspec": {
   "display_name": "Python 3 (ipykernel)",
   "language": "python",
   "name": "python3"
  },
  "language_info": {
   "codemirror_mode": {
    "name": "ipython",
    "version": 3
   },
   "file_extension": ".py",
   "mimetype": "text/x-python",
   "name": "python",
   "nbconvert_exporter": "python",
   "pygments_lexer": "ipython3",
   "version": "3.9.16"
  }
 },
 "nbformat": 4,
 "nbformat_minor": 5
}
